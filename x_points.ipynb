{
 "cells": [
  {
   "cell_type": "code",
   "execution_count": 2,
   "metadata": {},
   "outputs": [
    {
     "data": {
      "text/html": [
       "<style>.container { width:100% !important; }</style>"
      ],
      "text/plain": [
       "<IPython.core.display.HTML object>"
      ]
     },
     "metadata": {},
     "output_type": "display_data"
    }
   ],
   "source": [
    "import sys, time, timeit, cProfile, pstats, importlib, os, math, scipy\n",
    "sys.path.insert(0,'/home/uq/apps/muq2inst/lib')\n",
    "\n",
    "import matplotlib.pyplot as plt\n",
    "import matplotlib.cm as cm\n",
    "import numpy as np\n",
    "\n",
    "from IPython.display import display, HTML\n",
    "display(HTML(\"<style>.container { width:100% !important; }</style>\"))\n",
    "import matplotlib\n",
    "%matplotlib notebook\n",
    "%matplotlib inline\n",
    "matplotlib.rcParams['figure.figsize'] = (40., 7.)\n",
    "matplotlib.rcParams.update({'font.size': 22})\n",
    "\n",
    "import numpy as np\n",
    "import itertools as it\n",
    "from numpy.polynomial.legendre import legvander\n",
    "\n",
    "from Database import *\n",
    "from Densities import *\n",
    "from MultiIndex import *\n",
    "from Surrogates import *\n",
    "from Transport import *\n",
    "\n",
    "import plotutil, randutil, lejautil, legendreutil"
   ]
  },
  {
   "cell_type": "code",
   "execution_count": 7,
   "metadata": {},
   "outputs": [
    {
     "name": "stdout",
     "output_type": "stream",
     "text": [
      "[[ 1.5         0.4330127   2.51557647  0.4330127   0.          2.51557647]\n",
      " [ 0.4330127   3.75        0.96824584  0.          0.         -0.48412292]\n",
      " [ 2.51557647  0.96824584  6.5625     -0.48412292  0.          3.75      ]\n",
      " [ 0.4330127   0.         -0.48412292  3.75        0.          0.96824584]\n",
      " [ 0.          0.          0.          0.          9.          0.        ]\n",
      " [ 2.51557647 -0.48412292  3.75        0.96824584  0.          6.5625    ]]\n"
     ]
    },
    {
     "data": {
      "text/plain": [
       "11.624902443329283"
      ]
     },
     "execution_count": 7,
     "metadata": {},
     "output_type": "execute_result"
    }
   ],
   "source": [
    "m = TotalDegreeSet(dim=2, order=2)\n",
    "\n",
    "points = lejautil.leja_points(m)\n",
    "lhs = legendreutil.evaluate_basis(points, m)\n",
    "G = np.dot(lhs.T, lhs)#/m.size() - np.eye(m.size())\n",
    "print(G)\n",
    "np.linalg.norm(G, ord=2)"
   ]
  }
 ],
 "metadata": {
  "kernelspec": {
   "display_name": "Python 3 (ipykernel)",
   "language": "python",
   "name": "python3"
  },
  "language_info": {
   "codemirror_mode": {
    "name": "ipython",
    "version": 3
   },
   "file_extension": ".py",
   "mimetype": "text/x-python",
   "name": "python",
   "nbconvert_exporter": "python",
   "pygments_lexer": "ipython3",
   "version": "3.10.4"
  }
 },
 "nbformat": 4,
 "nbformat_minor": 2
}
