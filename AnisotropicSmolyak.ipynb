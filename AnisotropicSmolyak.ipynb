{
 "cells": [
  {
   "cell_type": "code",
   "execution_count": 2,
   "metadata": {},
   "outputs": [
    {
     "data": {
      "text/html": [
       "<style>.container { width:100% !important; }</style>"
      ],
      "text/plain": [
       "<IPython.core.display.HTML object>"
      ]
     },
     "metadata": {},
     "output_type": "display_data"
    }
   ],
   "source": [
    "import numpy as np\n",
    "import matplotlib.pyplot as plt\n",
    "from numpy.polynomial.legendre import leggauss\n",
    "\n",
    "from ipywidgets import interact\n",
    "import ipywidgets as widgets \n",
    "from matplotlib.collections import PatchCollection\n",
    "import matplotlib.patches as patches\n",
    "from matplotlib.pyplot import cm\n",
    "\n",
    "%matplotlib inline\n",
    "from IPython.core.display import display, HTML\n",
    "display(HTML(\"<style>.container { width:100% !important; }</style>\"))\n",
    "from mpl_toolkits.axes_grid1 import make_axes_locatable\n",
    "\n",
    "import pymuqModeling_ as mm\n",
    "import pymuqUtilities as mu\n",
    "import pymuqApproximation as ma\n",
    "\n",
    "from GaussianPosterior import *\n",
    "from Convolution import *\n",
    "import basis\n",
    "\n",
    "\n",
    "def print_multiset(multiset) :\n",
    "    print('Multiset ({} indices): '.format(len(multiset.GetAllMultiIndices())))\n",
    "    for m in multiset.GetAllMultiIndices() : print(m.GetVector(), end=' ')\n",
    "    print()\n",
    "    print('Active Multiset ({} indices): '.format(multiset.Size()))\n",
    "    for i in range(multiset.Size()) : print(multiset.IndexToMulti(i).GetVector(), end=' ')\n",
    "    print()"
   ]
  },
  {
   "cell_type": "code",
   "execution_count": 2,
   "metadata": {},
   "outputs": [],
   "source": [
    "x_measurement = np.linspace(-1,1,10)\n",
    "param  = [.1,.2,.4]\n",
    "noise = .1\n",
    "d = len(param)\n",
    "\n",
    "conv = Convolution(basis=basis.hats, d=d, alpha=1, x_val=x_measurement)\n",
    "y_measurement = conv.Evaluate([param])[0] + noise*np.random.randn(len(x_measurement))\n",
    "\n",
    "\n",
    "postr = GaussianPosterior(noise=noise, y_measurement=y_measurement)\n",
    "graph = mm.WorkGraph()\n",
    "graph.AddNode(conv, 'model')\n",
    "graph.AddNode(postr, 'postr')\n",
    "graph.AddEdge('model', 0, 'postr', 0)\n",
    "target = graph.CreateModPiece('postr')"
   ]
  },
  {
   "cell_type": "code",
   "execution_count": 3,
   "metadata": {},
   "outputs": [],
   "source": [
    "class SimpleTarget(mm.PyModPiece):\n",
    "\n",
    "    def __init__(self, d):\n",
    "        super(SimpleTarget, self).__init__([d], [1])\n",
    "\n",
    "    def EvaluateImpl(self, inputs):\n",
    "        return [[1]]"
   ]
  },
  {
   "cell_type": "markdown",
   "metadata": {},
   "source": [
    "## Construct the PCE"
   ]
  },
  {
   "cell_type": "code",
   "execution_count": 4,
   "metadata": {},
   "outputs": [
    {
     "name": "stdout",
     "output_type": "stream",
     "text": [
      "Multiset (10 indices): \n",
      "[0 0 0] [1 0 0] [0 1 0] [0 0 1] [1 0 1] [0 1 1] [0 0 2] [1 1 0] [0 2 0] [2 0 0] \n",
      "Active Multiset (4 indices): \n",
      "[0 0 0] [0 0 1] [0 1 0] [1 0 0] \n"
     ]
    },
    {
     "ename": "IndexError",
     "evalue": "vector::_M_range_check: __n (which is 0) >= this->size() (which is 0)",
     "output_type": "error",
     "traceback": [
      "\u001b[0;31m---------------------------------------------------------------------------\u001b[0m",
      "\u001b[0;31mIndexError\u001b[0m                                Traceback (most recent call last)",
      "\u001b[0;32m<ipython-input-4-ba0e05385fdc>\u001b[0m in \u001b[0;36m<module>\u001b[0;34m\u001b[0m\n\u001b[1;32m      8\u001b[0m \u001b[0mprint_multiset\u001b[0m\u001b[0;34m(\u001b[0m\u001b[0mmultis\u001b[0m\u001b[0;34m)\u001b[0m\u001b[0;34m\u001b[0m\u001b[0;34m\u001b[0m\u001b[0m\n\u001b[1;32m      9\u001b[0m \u001b[0;34m\u001b[0m\u001b[0m\n\u001b[0;32m---> 10\u001b[0;31m \u001b[0mpce\u001b[0m \u001b[0;34m=\u001b[0m \u001b[0msmolyPCE\u001b[0m\u001b[0;34m.\u001b[0m\u001b[0mCompute\u001b[0m\u001b[0;34m(\u001b[0m\u001b[0mmultis\u001b[0m\u001b[0;34m,\u001b[0m \u001b[0;34m{\u001b[0m\u001b[0;34m'ShouldAdapt'\u001b[0m\u001b[0;34m:\u001b[0m \u001b[0;36m0\u001b[0m\u001b[0;34m,\u001b[0m \u001b[0;34m'ErrorTol'\u001b[0m \u001b[0;34m:\u001b[0m \u001b[0;36m1e-4\u001b[0m\u001b[0;34m}\u001b[0m\u001b[0;34m)\u001b[0m\u001b[0;34m\u001b[0m\u001b[0;34m\u001b[0m\u001b[0m\n\u001b[0m\u001b[1;32m     11\u001b[0m \u001b[0msmolyPCE\u001b[0m\u001b[0;34m.\u001b[0m\u001b[0mPrintInfo\u001b[0m\u001b[0;34m(\u001b[0m\u001b[0;34m)\u001b[0m\u001b[0;34m\u001b[0m\u001b[0;34m\u001b[0m\u001b[0m\n\u001b[1;32m     12\u001b[0m \u001b[0;34m\u001b[0m\u001b[0m\n",
      "\u001b[0;31mIndexError\u001b[0m: vector::_M_range_check: __n (which is 0) >= this->size() (which is 0)"
     ]
    }
   ],
   "source": [
    "d = 1\n",
    "target = SimpleTarget(d)\n",
    "#model = mm.CosOperator(d)\n",
    "smolyPCE = ma.AdaptiveSmolyakPCE(target, [ma.LejaQuadrature()]*d, [ma.Legendre()]*d, 'interpolation');\n",
    "\n",
    "multis = mu.MultiIndexFactory.CreateTotalOrder(d,1)\n",
    "#multis = mu.MultiIndexFactory.CreateAnisotropic([.5,.1, .05], .8)\n",
    "print_multiset(multis)\n",
    "\n",
    "pce = smolyPCE.Compute(multis, {'ShouldAdapt': 0, 'ErrorTol' : 1e-4})\n",
    "smolyPCE.PrintInfo()\n",
    "\n",
    "print('Number of Model Evaluations:')\n",
    "print(smolyPCE.NumEvals())\n",
    "\n",
    "print('\\nEstimated L2 Error:')\n",
    "print('%0.4e'%smolyPCE.Error())"
   ]
  },
  {
   "cell_type": "code",
   "execution_count": null,
   "metadata": {},
   "outputs": [],
   "source": [
    "Number of Model Evaluations:\n",
    "161\n",
    "\n",
    "Estimated L2 Error:\n",
    "2.7748e-01"
   ]
  },
  {
   "cell_type": "code",
   "execution_count": 4,
   "metadata": {},
   "outputs": [
    {
     "data": {
      "text/plain": [
       "[<pymuqUtilities.MultiIndex at 0x7f4a1f5e60f0>,\n",
       " <pymuqUtilities.MultiIndex at 0x7f4a1f5e6170>,\n",
       " <pymuqUtilities.MultiIndex at 0x7f4a1f5e6130>,\n",
       " <pymuqUtilities.MultiIndex at 0x7f4a1f5e61b0>,\n",
       " <pymuqUtilities.MultiIndex at 0x7f4a1f5e61f0>,\n",
       " <pymuqUtilities.MultiIndex at 0x7f4a1f5e6230>,\n",
       " <pymuqUtilities.MultiIndex at 0x7f4a1f5e6270>,\n",
       " <pymuqUtilities.MultiIndex at 0x7f4a1f5e62b0>,\n",
       " <pymuqUtilities.MultiIndex at 0x7f4a1f5e62f0>,\n",
       " <pymuqUtilities.MultiIndex at 0x7f4a1f5e6330>,\n",
       " <pymuqUtilities.MultiIndex at 0x7f4a1f5e6370>,\n",
       " <pymuqUtilities.MultiIndex at 0x7f4a1f5e63b0>]"
      ]
     },
     "execution_count": 4,
     "metadata": {},
     "output_type": "execute_result"
    }
   ],
   "source": [
    "multis.GetAllMultiIndices()"
   ]
  },
  {
   "cell_type": "code",
   "execution_count": 5,
   "metadata": {},
   "outputs": [
    {
     "data": {
      "text/plain": [
       "12"
      ]
     },
     "execution_count": 5,
     "metadata": {},
     "output_type": "execute_result"
    }
   ],
   "source": [
    "multis.Size()"
   ]
  },
  {
   "cell_type": "markdown",
   "metadata": {},
   "source": [
    "### Plot the convergence diagnostics"
   ]
  },
  {
   "cell_type": "code",
   "execution_count": 9,
   "metadata": {},
   "outputs": [],
   "source": [
    "errorHist = smolyPCE.ErrorHistory()\n",
    "evalHist = smolyPCE.EvalHistory()\n",
    "timeHist = smolyPCE.TimeHistory()"
   ]
  },
  {
   "cell_type": "code",
   "execution_count": 10,
   "metadata": {},
   "outputs": [
    {
     "data": {
      "image/png": "[encoded data removed]",
      "text/plain": [
       "<Figure size 720x288 with 3 Axes>"
      ]
     },
     "metadata": {
      "needs_background": "light"
     },
     "output_type": "display_data"
    }
   ],
   "source": [
    "fig, axs = plt.subplots(ncols=3,sharey=True,figsize=(10,4))\n",
    "\n",
    "axs[0].semilogy(errorHist,'*-')\n",
    "axs[0].set_ylabel('Global Error Indicator')\n",
    "axs[0].set_xlabel('Number of Adaptations')\n",
    "axs[0].semilogy([0, len(errorHist)-1], [options['ErrorTol'],options['ErrorTol']],'--k')\n",
    "\n",
    "axs[1].semilogy(evalHist, errorHist,'*-',linewidth=2)\n",
    "axs[1].set_xlabel('Number of Evaluations')\n",
    "axs[1].semilogy([evalHist[0], evalHist[-1]], [options['ErrorTol'],options['ErrorTol']],'--k')\n",
    "\n",
    "axs[2].semilogy(timeHist, errorHist,'*-',linewidth=2)\n",
    "axs[2].semilogy([timeHist[0], timeHist[-1]], [options['ErrorTol'],options['ErrorTol']],'--k')\n",
    "\n",
    "axs[2].set_xlabel('Runtime (s)')\n",
    "\n",
    "plt.subplots_adjust(wspace=0.02)\n",
    "plt.show()"
   ]
  },
  {
   "cell_type": "markdown",
   "metadata": {},
   "source": [
    "### Plot the model points and Smolyak terms"
   ]
  },
  {
   "cell_type": "code",
   "execution_count": 14,
   "metadata": {},
   "outputs": [],
   "source": [
    "ptHist = smolyPCE.PointHistory()\n",
    "termHist = smolyPCE.TermHistory()"
   ]
  },
  {
   "cell_type": "code",
   "execution_count": 15,
   "metadata": {},
   "outputs": [
    {
     "data": {
      "application/vnd.jupyter.widget-view+json": {
       "model_id": "89ddc7b170324b12a7dfa014f3baa524",
       "version_major": 2,
       "version_minor": 0
      },
      "text/plain": [
       "interactive(children=(IntSlider(value=5, description='AdaptIt', max=5), Output()), _dom_classes=('widget-inter…"
      ]
     },
     "metadata": {},
     "output_type": "display_data"
    }
   ],
   "source": [
    "colors=cm.tab20(np.linspace(0,1,len(termHist)))\n",
    "\n",
    "def PlotAdaptation(AdaptIt):\n",
    "\n",
    "    fig, axs = plt.subplots(ncols=2,figsize=(11,5))\n",
    "\n",
    "    for it in range(AdaptIt+1):\n",
    "\n",
    "        pts_x = [pt[0] for pt in ptHist[it]]\n",
    "        pts_y = [pt[1] for pt in ptHist[it]]\n",
    "        axs[0].plot(pts_x,pts_y, '.',markersize=14,color=colors[it])\n",
    "        \n",
    "        # Create a Rectangle patch\n",
    "        boxes=[]\n",
    "        for term in termHist[it]:\n",
    "            termVec = term.GetVector()\n",
    "            boxes.append( patches.Rectangle((termVec[0]-0.5,termVec[1]-0.5),1.0,1.0))\n",
    "\n",
    "        axs[1].add_collection(PatchCollection(boxes, facecolor=colors[it]))\n",
    "        \n",
    "    axs[0].set_xlim([-1.1,1.1])\n",
    "    axs[0].set_ylim([-1.1,1.1])\n",
    "\n",
    "    axs[0].set_xlabel('$x_1$')\n",
    "    axs[0].set_ylabel('$x_1$')\n",
    "    axs[0].set_title('Evaluation Points (Iteration %d)'%AdaptIt)\n",
    "\n",
    "    axs[1].set_xlim([-0.5,7.5])\n",
    "    axs[1].set_ylim([-0.5,7.5])\n",
    "\n",
    "    axs[1].set_ylabel('Order in $x_1$')\n",
    "    axs[1].set_ylabel('Order in $x_2$')\n",
    "    axs[1].set_title('Smolyak Terms (Iteration %d)'%AdaptIt)\n",
    "    \n",
    "\n",
    "interact(PlotAdaptation, AdaptIt=widgets.IntSlider(min=0, max=len(ptHist)-1, step=1, value=len(ptHist)-1));\n"
   ]
  },
  {
   "cell_type": "markdown",
   "metadata": {},
   "source": [
    "### Plot the polynoial terms in the PCE"
   ]
  },
  {
   "cell_type": "code",
   "execution_count": 16,
   "metadata": {},
   "outputs": [],
   "source": [
    "polyTerms = pce.Multis()"
   ]
  },
  {
   "cell_type": "code",
   "execution_count": 17,
   "metadata": {},
   "outputs": [
    {
     "data": {
      "image/png": "[encoded data removed]",
      "text/plain": [
       "<Figure size 576x576 with 1 Axes>"
      ]
     },
     "metadata": {
      "needs_background": "light"
     },
     "output_type": "display_data"
    }
   ],
   "source": [
    "fig = plt.figure(figsize=(8,8))\n",
    "\n",
    "# A list of rectangular patches.  One for each term\n",
    "boxes=[]\n",
    "\n",
    "# Loop over all of the multiindices \n",
    "maxOrderX = 0 # \n",
    "maxOrderY = 0\n",
    "for i in range(polyTerms.Size()):\n",
    "    termVec = polyTerms.at(i).GetVector()\n",
    "    \n",
    "    boxes.append( patches.Rectangle((termVec[0]-0.5,termVec[1]-0.5),1.0,1.0))\n",
    "    \n",
    "    maxOrderX = np.max([maxOrderX, termVec[0]])\n",
    "    maxOrderY = np.max([maxOrderY, termVec[1]])\n",
    "\n",
    "    \n",
    "plt.gca().add_collection(PatchCollection(boxes,edgecolors='k'))\n",
    "plt.xlim(-0.5,maxOrderX+2)\n",
    "plt.ylim(-0.5,maxOrderY+2)\n",
    "\n",
    "plt.xlabel('X order')\n",
    "plt.ylabel('Y Order')\n",
    "plt.title('Polynomial terms in PCE')\n",
    "plt.show()"
   ]
  },
  {
   "cell_type": "markdown",
   "metadata": {},
   "source": [
    "## Plot the PCE predictions\n",
    "\n",
    "Before plotting, we need to evaluate the true model and the PCE surrogate at a grid of points.  These evaluations are completed in the following cell."
   ]
  },
  {
   "cell_type": "code",
   "execution_count": 13,
   "metadata": {},
   "outputs": [],
   "source": [
    "numPlot = 50\n",
    "\n",
    "x = np.linspace(-1,1,numPlot)\n",
    "X, Y = np.meshgrid(x,x)\n",
    "\n",
    "trueEvals = np.zeros(X.shape)\n",
    "pceEvals = np.zeros(X.shape)\n",
    "\n",
    "for i in range(numPlot):\n",
    "    for j in range(numPlot):\n",
    "        pt = [X[i,j],Y[i,j]]\n",
    "        \n",
    "        trueEvals[i,j] = model.Evaluate([pt])[0][0]\n",
    "        pceEvals[i,j] = pce.Evaluate([pt])[0][0]        "
   ]
  },
  {
   "cell_type": "markdown",
   "metadata": {},
   "source": [
    "The cell below plots the true model evaluations, the PCE evaluations, and the error.  "
   ]
  },
  {
   "cell_type": "code",
   "execution_count": 14,
   "metadata": {},
   "outputs": [
    {
     "data": {
      "image/png": "[encoded data removed]",
      "text/plain": [
       "<Figure size 1080x504 with 6 Axes>"
      ]
     },
     "metadata": {
      "needs_background": "light"
     },
     "output_type": "display_data"
    }
   ],
   "source": [
    "fig, axs = plt.subplots(ncols=3, figsize=(15,7), gridspec_kw={'wspace':0.5})\n",
    "\n",
    "# Plot the true model\n",
    "im = axs[0].imshow(trueEvals)\n",
    "axs[0].set_title('True Model')\n",
    "\n",
    "divider = make_axes_locatable(axs[0])\n",
    "cax = divider.append_axes('right', size='5%', pad=0.05)\n",
    "fig.colorbar(im, cax=cax, orientation='vertical')\n",
    "\n",
    "# Plot the PCE Surrogate\n",
    "im = axs[1].imshow(pceEvals)\n",
    "axs[1].set_title('PCE Surrogate')\n",
    "\n",
    "divider = make_axes_locatable(axs[1])\n",
    "cax = divider.append_axes('right', size='5%', pad=0.05)\n",
    "fig.colorbar(im, cax=cax, orientation='vertical')\n",
    "\n",
    "\n",
    "im = axs[2].imshow(pceEvals-trueEvals)\n",
    "\n",
    "axs[2].set_title('Error')\n",
    "divider = make_axes_locatable(axs[2])\n",
    "cax = divider.append_axes('right', size='5%', pad=0.05)\n",
    "fig.colorbar(im, cax=cax, orientation='vertical')\n",
    "\n",
    "plt.show()"
   ]
  },
  {
   "cell_type": "markdown",
   "metadata": {},
   "source": [
    "## Propagate Uncertainty"
   ]
  },
  {
   "cell_type": "code",
   "execution_count": 15,
   "metadata": {},
   "outputs": [
    {
     "name": "stdout",
     "output_type": "stream",
     "text": [
      "Prediction Mean:\n",
      "[0.84147098 0.84147098]\n",
      "\n",
      "Prediction Variance:\n",
      "[0.01925094 0.01925094]\n",
      "\n",
      "Prediction Covariance:\n",
      "[[1.92509384e-02 1.09585700e-18]\n",
      " [1.09585700e-18 1.92509384e-02]]\n"
     ]
    }
   ],
   "source": [
    "print('Prediction Mean:')\n",
    "print(pce.Mean())\n",
    "\n",
    "print('\\nPrediction Variance:')\n",
    "print(pce.Variance())\n",
    "\n",
    "print('\\nPrediction Covariance:')\n",
    "print(pce.Covariance())\n"
   ]
  },
  {
   "cell_type": "markdown",
   "metadata": {},
   "source": [
    "## Sensitivity analysis"
   ]
  },
  {
   "cell_type": "code",
   "execution_count": 16,
   "metadata": {},
   "outputs": [
    {
     "name": "stdout",
     "output_type": "stream",
     "text": [
      "Total Sensitivities:\n",
      "  Output 0 wrt parameter 0 = 1.00e+00\n",
      "  Output 0 wrt parameter 1 = 1.39e-29\n",
      "  Output 1 wrt parameter 0 = 1.46e-29\n",
      "  Output 1 wrt parameter 1 = 1.00e+00\n",
      "\n",
      "All Total Sensitivities:\n",
      "[[1.00000000e+00 1.46011825e-29]\n",
      " [1.38826284e-29 1.00000000e+00]]\n",
      "\n",
      "First Order Sobol Indices:\n",
      "  Output 0 wrt parameter 0 = 1.00e+00\n",
      "  Output 0 wrt parameter 1 = 1.36e-29\n",
      "  Output 1 wrt parameter 0 = 1.44e-29\n",
      "  Output 1 wrt parameter 1 = 1.00e+00\n"
     ]
    }
   ],
   "source": [
    "totalSens1 = pce.TotalSensitivity(0)\n",
    "totalSens2 = pce.TotalSensitivity(1)\n",
    "\n",
    "print('Total Sensitivities:')\n",
    "print('  Output 0 wrt parameter 0 = %0.2e'%totalSens1[0])\n",
    "print('  Output 0 wrt parameter 1 = %0.2e'%totalSens1[1])\n",
    "print('  Output 1 wrt parameter 0 = %0.2e'%totalSens2[0])\n",
    "print('  Output 1 wrt parameter 1 = %0.2e'%totalSens2[1])\n",
    "\n",
    "print('\\nAll Total Sensitivities:')\n",
    "print(pce.TotalSensitivity())\n",
    "\n",
    "mainEffects1 = pce.SobolSensitivity(0)\n",
    "mainEffects2 = pce.SobolSensitivity(1)\n",
    "print('\\nFirst Order Sobol Indices:')\n",
    "print('  Output 0 wrt parameter 0 = %0.2e'%mainEffects1[0])\n",
    "print('  Output 0 wrt parameter 1 = %0.2e'%mainEffects1[1])\n",
    "print('  Output 1 wrt parameter 0 = %0.2e'%mainEffects2[0])\n",
    "print('  Output 1 wrt parameter 1 = %0.2e'%mainEffects2[1])"
   ]
  },
  {
   "cell_type": "code",
   "execution_count": null,
   "metadata": {},
   "outputs": [],
   "source": []
  },
  {
   "cell_type": "code",
   "execution_count": null,
   "metadata": {},
   "outputs": [],
   "source": []
  }
 ],
 "metadata": {
  "kernelspec": {
   "display_name": "Python 3",
   "language": "python",
   "name": "python3"
  },
  "language_info": {
   "codemirror_mode": {
    "name": "ipython",
    "version": 3
   },
   "file_extension": ".py",
   "mimetype": "text/x-python",
   "name": "python",
   "nbconvert_exporter": "python",
   "pygments_lexer": "ipython3",
   "version": "3.9.0"
  }
 },
 "nbformat": 4,
 "nbformat_minor": 4
}
