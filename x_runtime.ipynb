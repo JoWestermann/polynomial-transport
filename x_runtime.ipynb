{
 "cells": [
  {
   "cell_type": "code",
   "execution_count": 11,
   "metadata": {},
   "outputs": [
    {
     "data": {
      "text/html": [
       "<style>.container { width:100% !important; }</style>"
      ],
      "text/plain": [
       "<IPython.core.display.HTML object>"
      ]
     },
     "metadata": {},
     "output_type": "display_data"
    }
   ],
   "source": [
    "import sys, time, timeit, cProfile, pstats, importlib, os, math, scipy\n",
    "sys.path.insert(0,'/home/uq/apps/muq2inst/lib')\n",
    "\n",
    "import matplotlib.pyplot as plt\n",
    "import matplotlib.cm as cm\n",
    "import numpy as np\n",
    "\n",
    "from IPython.display import display, HTML\n",
    "display(HTML(\"<style>.container { width:100% !important; }</style>\"))\n",
    "import matplotlib\n",
    "%matplotlib notebook\n",
    "%matplotlib inline\n",
    "matplotlib.rcParams['figure.figsize'] = (40., 7.)\n",
    "matplotlib.rcParams.update({'font.size': 22})\n",
    "\n",
    "import numpy as np\n",
    "import itertools as it\n",
    "from numpy.polynomial.legendre import legvander\n",
    "\n",
    "from Database import *\n",
    "from Densities import *\n",
    "from MultiIndex import *\n",
    "from Surrogates import *\n",
    "from Transport import *\n",
    "\n",
    "import plotutil, randutil"
   ]
  },
  {
   "cell_type": "code",
   "execution_count": 88,
   "metadata": {},
   "outputs": [
    {
     "data": {
      "text/plain": [
       "[0.25,\n",
       " 0.11111111111111113,\n",
       " 0.0625,\n",
       " 0.04000000000000001,\n",
       " 0.027777777777777783,\n",
       " 0.02040816326530612,\n",
       " 0.015625,\n",
       " 0.012345679012345682,\n",
       " 0.010000000000000002,\n",
       " 0.008264462809917354,\n",
       " 0.006944444444444446,\n",
       " 0.005917159763313609,\n",
       " 0.00510204081632653,\n",
       " 0.004444444444444444,\n",
       " 0.00390625,\n",
       " 0.003460207612456749,\n",
       " 0.0030864197530864204,\n",
       " 0.0027700831024930757,\n",
       " 0.002499999999999999,\n",
       " 0.0022675736961451235,\n",
       " 0.0020661157024793385,\n",
       " 0.0018903591682419656,\n",
       " 0.0017361111111111114,\n",
       " 0.0016000000000000007,\n",
       " 0.0014792899408284032,\n",
       " 0.0013717421124828538,\n",
       " 0.0012755102040816334,\n",
       " 0.001189060642092747,\n",
       " 0.001111111111111111,\n",
       " 0.0010405827263267435,\n",
       " 0.0009765625,\n",
       " 0.0009182736455463729,\n",
       " 0.0008650519031141872,\n",
       " 0.000816326530612245,\n",
       " 0.0007716049382716051,\n",
       " 0.0007304601899196491,\n",
       " 0.0006925207756232689,\n",
       " 0.0006574621959237341,\n",
       " 0.0006249999999999998,\n",
       " 0.0005948839976204639,\n",
       " 0.0005668934240362809,\n",
       " 0.0005408328826392645,\n",
       " 0.0005165289256198346,\n",
       " 0.0004938271604938271,\n",
       " 0.0004725897920604914,\n",
       " 0.00045269352648257113,\n",
       " 0.00043402777777777786,\n",
       " 0.00041649312786339016,\n",
       " 0.0004000000000000002,\n",
       " 0.0003844675124951944,\n",
       " 0.0003698224852071008,\n",
       " 0.00035599857600569616,\n",
       " 0.00034293552812071344,\n",
       " 0.0003305785123966941,\n",
       " 0.00031887755102040835,\n",
       " 0.00030778701138811957,\n",
       " 0.00029726516052318676,\n",
       " 0.00028727377190462496,\n",
       " 0.0002777777777777777,\n",
       " 0.0002687449610319805,\n",
       " 0.0002601456815816859,\n",
       " 0.0002519526329050138,\n",
       " 0.000244140625,\n",
       " 0.00023668639053254443,\n",
       " 0.00022956841138659323,\n",
       " 0.00022276676319893084,\n",
       " 0.0002162629757785468,\n",
       " 0.00021003990758244065,\n",
       " 0.00020408163265306126,\n",
       " 0.00019837333862328897,\n",
       " 0.00019290123456790128,\n",
       " 0.00018765246762994923,\n",
       " 0.00018261504747991227,\n",
       " 0.0001777777777777779,\n",
       " 0.00017313019390581723,\n",
       " 0.00016866250632484406,\n",
       " 0.00016436554898093352,\n",
       " 0.00016023073225444637,\n",
       " 0.00015624999999999995,\n",
       " 0.00015241579027587267,\n",
       " 0.00014872099940511598,\n",
       " 0.00014515894904920893,\n",
       " 0.00014172335600907022,\n",
       " 0.0001384083044982699,\n",
       " 0.00013520822065981613,\n",
       " 0.00013211784912141636,\n",
       " 0.00012913223140495865,\n",
       " 0.00012624668602449188,\n",
       " 0.00012345679012345677,\n",
       " 0.00012075836251660426,\n",
       " 0.00011814744801512285,\n",
       " 0.00011562030292519373,\n",
       " 0.00011317338162064278,\n",
       " 0.00011080332409972299,\n",
       " 0.00010850694444444447,\n",
       " 0.00010628122010840682,\n",
       " 0.00010412328196584754,\n",
       " 0.00010203040506070812,\n",
       " 0.00010000000000000005,\n",
       " 9.80296049406921e-05,\n",
       " 9.61168781237986e-05,\n",
       " 9.425959091337542e-05,\n",
       " 9.24556213017752e-05,\n",
       " 9.070294784580502e-05,\n",
       " 8.899964400142404e-05,\n",
       " 8.734387282732111e-05,\n",
       " 8.573388203017836e-05,\n",
       " 8.416799932665605e-05,\n",
       " 8.264462809917352e-05,\n",
       " 8.116224332440546e-05,\n",
       " 7.971938775510209e-05,\n",
       " 7.831466833737958e-05,\n",
       " 7.694675284702989e-05,\n",
       " 7.561436672967869e-05,\n",
       " 7.431629013079669e-05,\n",
       " 7.305135510263713e-05,\n",
       " 7.181844297615624e-05,\n",
       " 7.061648188687238e-05,\n",
       " 6.944444444444443e-05,\n",
       " 6.830134553650706e-05,\n",
       " 6.718624025799513e-05,\n",
       " 6.609822195782933e-05,\n",
       " 6.503642039542147e-05,\n",
       " 6.400000000000001e-05,\n",
       " 6.298815822625344e-05,\n",
       " 6.200012400024803e-05,\n",
       " 6.103515625e-05,\n",
       " 6.009254251547384e-05,\n",
       " 5.917159763313611e-05,\n",
       " 5.827166249053086e-05,\n",
       " 5.739210284664831e-05,\n",
       " 5.6532308214144365e-05,\n",
       " 5.569169079973271e-05,\n",
       " 5.486968449931413e-05,\n",
       " 5.40657439446367e-05,\n",
       " 5.327934359848689e-05,\n",
       " 5.250997689561016e-05,\n",
       " 5.175715542673773e-05,\n",
       " 5.1020408163265315e-05,\n",
       " 5.029928072028569e-05,\n",
       " 4.9593334655822244e-05,\n",
       " 4.890214680424473e-05,\n",
       " 4.822530864197532e-05,\n",
       " 4.756242568370987e-05,\n",
       " 4.691311690748731e-05,\n",
       " 4.627701420704336e-05,\n",
       " 4.565376186997807e-05,\n",
       " 4.504301608035677e-05,\n",
       " 4.4444444444444474e-05,\n",
       " 4.38577255383536e-05,\n",
       " 4.328254847645431e-05,\n",
       " 4.2718612499465995e-05,\n",
       " 4.2165626581211016e-05,\n",
       " 4.162330905306972e-05,\n",
       " 4.109138724523338e-05,\n",
       " 4.056959714390036e-05,\n",
       " 4.005768306361159e-05,\n",
       " 3.95553973339662e-05,\n",
       " 3.906249999999999e-05,\n",
       " 3.857875853555034e-05,\n",
       " 3.8103947568968166e-05,\n",
       " 3.763784862057287e-05,\n",
       " 3.7180249851278996e-05,\n",
       " 3.67309458218549e-05,\n",
       " 3.628973726230223e-05,\n",
       " 3.585643085087312e-05,\n",
       " 3.5430839002267554e-05,\n",
       " 3.501277966457757e-05,\n",
       " 3.460207612456748e-05,\n",
       " 3.419855682090214e-05,\n",
       " 3.380205516495403e-05,\n",
       " 3.3412409368839586e-05,\n",
       " 3.302946228035409e-05,\n",
       " 3.2653061224489787e-05,\n",
       " 3.2283057851239664e-05,\n",
       " 3.1919307989402784e-05,\n",
       " 3.156167150612297e-05,\n",
       " 3.121001217190475e-05,\n",
       " 3.086419753086419e-05,\n",
       " 3.052409877598363e-05,\n",
       " 3.0189590629151064e-05,\n",
       " 2.9860551225775615e-05,\n",
       " 2.9536862003780712e-05,\n",
       " 2.9218407596785988e-05,\n",
       " 2.890507573129843e-05,\n",
       " 2.8596757127741723e-05,\n",
       " 2.8293345405160696e-05,\n",
       " 2.7994736989445976e-05,\n",
       " 2.7700831024930747e-05,\n",
       " 2.7411529289219047e-05,\n",
       " 2.7126736111111116e-05,\n",
       " 2.6846358291497752e-05,\n",
       " 2.6570305027101706e-05,\n",
       " 2.6298487836949386e-05,\n",
       " 2.6030820491461885e-05,\n",
       " 2.576721894405936e-05,\n",
       " 2.550760126517703e-05,\n",
       " 2.5251887578596503e-05,\n",
       " 2.500000000000001e-05,\n",
       " 2.4751862577658955e-05]"
      ]
     },
     "execution_count": 88,
     "metadata": {},
     "output_type": "execute_result"
    }
   ],
   "source": [
    "[2**(-2*np.log2(i+1)) for i in range(1,201)]"
   ]
  },
  {
   "cell_type": "markdown",
   "metadata": {},
   "source": [
    "# Profiling Surrogate Construction"
   ]
  },
  {
   "cell_type": "code",
   "execution_count": 86,
   "metadata": {},
   "outputs": [
    {
     "name": "stdout",
     "output_type": "stream",
     "text": [
      "55 (2, 2200) (2200,) (2200, 55)\n",
      "[0.00862235] 55\n",
      "[23.40830114 23.14720178 22.84668282 22.34100962 21.85139675 21.33151785\n",
      " 20.96468981 20.50644781 20.053087   19.95806551 19.63828657 19.09709324\n",
      " 18.85933355 18.59433476 18.10617269 17.9428856  17.31888695 17.07112903\n",
      " 16.86836911 16.37230611 16.04601958 15.77097308 15.3171758  15.16737062\n",
      " 14.8383832  14.51947229 14.42277025 14.0367189  13.93246398 13.54502661\n",
      " 13.43232531 13.30724461 12.98024161 12.05005489 11.91110769 11.70581374\n",
      " 11.50651549 10.99284557 10.94263373 10.70936685 10.49717672 10.29976824\n",
      "  9.87153589  9.76370775  9.47880244  9.20349956  8.91769722  8.84735949\n",
      "  8.70015154  8.14197036  7.94346712  7.27938749  6.70109161  6.46457062\n",
      "  5.88981337]\n"
     ]
    }
   ],
   "source": [
    "t = Rosenbrock(a=.15, b=10)\n",
    "m = TotalDegreeSet(dim=2, order=9)\n",
    "\n",
    "points, weights = get_sample_points_and_weights('wls', m)\n",
    "rhs = np.squeeze(t.evalSqrt(points))\n",
    "lhs = legendreutil.evaluate_basis(points, m)\n",
    "print(m.cardinality, points.shape, rhs.shape, lhs.shape)\n",
    "\n",
    "if weights is not None:\n",
    "    for i in range(lhs.shape[0]) :\n",
    "        lhs[i,:] *= weights[i]\n",
    "        rhs[i] *= weights[i]\n",
    "\n",
    "def run_nplstsq() :\n",
    "    coeffs, res, rank, s = np.linalg.lstsq(lhs, rhs, rcond=None)\n",
    "    #print(res/rhs.shape[0], rank)\n",
    "    #print(s)\n",
    "    return coeffs\n",
    "\n",
    "def run_nppinv() :\n",
    "    inv = np.linalg.pinv(lhs)\n",
    "    return np.dot(inv, rhs)\n",
    "\n",
    "def run_splstsq() :\n",
    "    coeffs, _, _, _ = scipy.linalg.lstsq(lhs, rhs)\n",
    "    return coeffs\n",
    "\n",
    "def run_optimize() :\n",
    "    def func(x) :\n",
    "        return np.dot(lhs, x.T) - rhs\n",
    "    coeffs, _ = scipy.optimize.leastsq(func, np.zeros((lhs.shape[1],)))\n",
    "    return coeffs\n",
    "\n",
    "x = run_nplstsq()"
   ]
  },
  {
   "cell_type": "code",
   "execution_count": 78,
   "metadata": {},
   "outputs": [
    {
     "name": "stdout",
     "output_type": "stream",
     "text": [
      "[ 1.73752124e-11  3.17801341e-12 -3.60003694e-13 -9.99828415e-11\n",
      " -3.35051570e-11  1.35865486e-11 -4.69166477e-11  7.88503464e-12\n",
      " -3.72222808e-11  1.17669263e-10  2.66446379e-11  1.58889450e-10\n",
      "  2.06712733e-11  2.97639660e-11  1.15699277e-10 -2.82425056e-11\n",
      "  7.25799759e-11 -6.74612745e-11  4.60941250e-11  3.03548853e-11\n",
      "  3.39333023e-11  7.59792507e-11 -7.14941162e-11 -3.30795599e-11\n",
      "  7.92106103e-11  1.43247220e-11 -2.49446991e-11 -5.29600877e-11\n",
      "  1.69469100e-10  5.91149039e-11 -4.07486176e-12  1.47909579e-10\n",
      " -1.29371467e-10  4.53608366e-11  7.36458117e-11  1.24160265e-11\n",
      "  6.35609620e-11 -3.44923985e-11  3.41061901e-11  1.22174389e-10\n",
      "  1.48716438e-11  1.44916660e-10  4.50390038e-11 -2.22087227e-11\n",
      "  1.16249513e-10  2.26422700e-12  3.89271254e-11  9.93212387e-11\n",
      " -8.13542705e-11 -4.16625935e-13  5.56199208e-11  6.48072828e-11\n",
      "  4.54366861e-11  2.20748940e-11  2.58438913e-11]\n"
     ]
    }
   ],
   "source": [
    "c1 = run_nplstsq()\n",
    "c2 = run_optimize()\n",
    "print(c1 - c2)"
   ]
  },
  {
   "cell_type": "code",
   "execution_count": 47,
   "metadata": {},
   "outputs": [
    {
     "data": {
      "text/plain": [
       "[73.21716557500076]"
      ]
     },
     "execution_count": 47,
     "metadata": {},
     "output_type": "execute_result"
    }
   ],
   "source": [
    "timeit.repeat(run_nplstsq, repeat=1, number=1)"
   ]
  },
  {
   "cell_type": "code",
   "execution_count": 80,
   "metadata": {},
   "outputs": [
    {
     "data": {
      "text/plain": [
       "[238.19883692000076]"
      ]
     },
     "execution_count": 80,
     "metadata": {},
     "output_type": "execute_result"
    }
   ],
   "source": [
    "timeit.repeat(run_optimize, repeat=1, number=1)"
   ]
  },
  {
   "cell_type": "code",
   "execution_count": 48,
   "metadata": {},
   "outputs": [
    {
     "data": {
      "text/plain": [
       "[73.77029162899998,\n",
       " 78.31270684000083,\n",
       " 85.31312828299997,\n",
       " 78.64938330199948,\n",
       " 84.29982718700012]"
      ]
     },
     "execution_count": 48,
     "metadata": {},
     "output_type": "execute_result"
    }
   ],
   "source": [
    "timeit.repeat(run_splstsq, repeat=1, number=1)"
   ]
  },
  {
   "cell_type": "code",
   "execution_count": 24,
   "metadata": {},
   "outputs": [],
   "source": [
    "cProfile.run('run_nplstsq()', 'stats_run_nplstsq')"
   ]
  },
  {
   "cell_type": "code",
   "execution_count": 32,
   "metadata": {},
   "outputs": [],
   "source": [
    "cProfile.run('run_nppinv()', 'stats_run_nppinv')"
   ]
  },
  {
   "cell_type": "code",
   "execution_count": 33,
   "metadata": {},
   "outputs": [],
   "source": [
    "cProfile.run('run_splstsq()', 'stats_run_splstsq')"
   ]
  },
  {
   "cell_type": "code",
   "execution_count": 36,
   "metadata": {},
   "outputs": [
    {
     "name": "stdout",
     "output_type": "stream",
     "text": [
      "Fri Apr  1 12:33:20 2022    stats_run_splstsq\n",
      "\n",
      "         52 function calls in 6.928 seconds\n",
      "\n",
      "   Ordered by: cumulative time\n",
      "\n",
      "   ncalls  tottime  percall  cumtime  percall filename:lineno(function)\n",
      "        1    0.000    0.000    6.928    6.928 {built-in method builtins.exec}\n",
      "        1    0.000    0.000    6.928    6.928 <string>:1(<module>)\n",
      "        1    0.000    0.000    6.928    6.928 /tmp/ipykernel_5801/2816693092.py:22(run_splstsq)\n",
      "        1    6.914    6.914    6.928    6.928 /usr/lib/python3.10/site-packages/scipy/linalg/_basic.py:1036(lstsq)\n",
      "        2    0.000    0.000    0.013    0.007 /usr/lib/python3.10/site-packages/scipy/_lib/_util.py:241(_asarray_validated)\n",
      "        2    0.012    0.006    0.013    0.007 /usr/lib/python3.10/site-packages/numpy/lib/function_base.py:537(asarray_chkfinite)\n",
      "        3    0.001    0.000    0.001    0.000 {method 'reduce' of 'numpy.ufunc' objects}\n",
      "        2    0.000    0.000    0.001    0.001 {method 'all' of 'numpy.ndarray' objects}\n",
      "        2    0.000    0.000    0.001    0.001 /usr/lib/python3.10/site-packages/numpy/core/_methods.py:60(_all)\n",
      "        1    0.000    0.000    0.000    0.000 <__array_function__ internals>:177(sum)\n",
      "        1    0.000    0.000    0.000    0.000 {built-in method numpy.core._multiarray_umath.implement_array_function}\n",
      "        1    0.000    0.000    0.000    0.000 /usr/lib/python3.10/site-packages/numpy/core/fromnumeric.py:2160(sum)\n",
      "        1    0.000    0.000    0.000    0.000 /usr/lib/python3.10/site-packages/numpy/core/fromnumeric.py:69(_wrapreduction)\n",
      "        1    0.000    0.000    0.000    0.000 /usr/lib/python3.10/site-packages/scipy/linalg/lapack.py:994(_compute_lwork)\n",
      "        3    0.000    0.000    0.000    0.000 {built-in method numpy.asarray}\n",
      "        3    0.000    0.000    0.000    0.000 /usr/lib/python3.10/site-packages/scipy/linalg/lapack.py:1025(<genexpr>)\n",
      "        1    0.000    0.000    0.000    0.000 /usr/lib/python3.10/site-packages/scipy/linalg/blas.py:383(getter)\n",
      "        2    0.000    0.000    0.000    0.000 /usr/lib/python3.10/site-packages/scipy/linalg/lapack.py:1029(_check_work_float)\n",
      "        2    0.000    0.000    0.000    0.000 /usr/lib/python3.10/site-packages/scipy/sparse/_base.py:1291(isspmatrix)\n",
      "        5    0.000    0.000    0.000    0.000 {built-in method builtins.isinstance}\n",
      "        1    0.000    0.000    0.000    0.000 /usr/lib/python3.10/site-packages/numpy/core/getlimits.py:457(__new__)\n",
      "        2    0.000    0.000    0.000    0.000 /usr/lib/python3.10/site-packages/numpy/ma/core.py:6377(isMaskedArray)\n",
      "        2    0.000    0.000    0.000    0.000 {method 'get' of 'dict' objects}\n",
      "        1    0.000    0.000    0.000    0.000 /usr/lib/python3.10/site-packages/numpy/core/fromnumeric.py:70(<dictcomp>)\n",
      "        3    0.000    0.000    0.000    0.000 {built-in method builtins.len}\n",
      "        2    0.000    0.000    0.000    0.000 {built-in method builtins.getattr}\n",
      "        1    0.000    0.000    0.000    0.000 {method 'disable' of '_lsprof.Profiler' objects}\n",
      "        1    0.000    0.000    0.000    0.000 /usr/lib/python3.10/site-packages/numpy/core/fromnumeric.py:2155(_sum_dispatcher)\n",
      "        1    0.000    0.000    0.000    0.000 {method 'items' of 'dict' objects}\n",
      "        2    0.000    0.000    0.000    0.000 /usr/lib/python3.10/site-packages/scipy/linalg/_misc.py:180(_datacopied)\n",
      "\n",
      "\n"
     ]
    },
    {
     "data": {
      "text/plain": [
       "<pstats.Stats at 0x7fb701f52230>"
      ]
     },
     "execution_count": 36,
     "metadata": {},
     "output_type": "execute_result"
    }
   ],
   "source": [
    "p = pstats.Stats('stats_run_splstsq')\n",
    "p.sort_stats(pstats.SortKey.CUMULATIVE).print_stats()"
   ]
  },
  {
   "cell_type": "markdown",
   "metadata": {},
   "source": [
    "# Profiling Transport Map Evaluation"
   ]
  },
  {
   "cell_type": "code",
   "execution_count": 3,
   "metadata": {},
   "outputs": [],
   "source": [
    "t = Rosenbrock(a=.15, b=10)\n",
    "m = TotalDegreeSet(dim=2, order=9)\n",
    "s = Legendre(multis=m, target=t, method='wls')\n",
    "r = TransportMap(s)\n",
    "\n",
    "def run() :\n",
    "    p = randutil.points(2,1000)\n",
    "    i = np.zeros(p.shape)\n",
    "    for j in range(p.shape[1]) :\n",
    "        i[:,j] = r.inveval(p[:,j])"
   ]
  },
  {
   "cell_type": "code",
   "execution_count": 33,
   "metadata": {},
   "outputs": [],
   "source": [
    "cProfile.run('run()', 'stats')"
   ]
  },
  {
   "cell_type": "code",
   "execution_count": 2,
   "metadata": {},
   "outputs": [
    {
     "name": "stdout",
     "output_type": "stream",
     "text": [
      "Tue Mar 15 10:59:18 2022    stats\n",
      "\n",
      "         28670007 function calls in 52.949 seconds\n",
      "\n",
      "   Ordered by: cumulative time\n",
      "\n",
      "   ncalls  tottime  percall  cumtime  percall filename:lineno(function)\n",
      "        1    0.000    0.000   52.949   52.949 {built-in method builtins.exec}\n",
      "        1    0.000    0.000   52.949   52.949 <string>:1(<module>)\n",
      "        1    0.003    0.003   52.949   52.949 /tmp/ipykernel_5284/3898437028.py:6(run)\n",
      "     1000    0.136    0.000   52.945    0.053 /home/uq/spatram_tmp/Transport.py:47(inveval)\n",
      "    61000    5.387    0.000   52.776    0.001 /home/uq/spatram_tmp/Transport.py:14(eval)\n",
      "   122000   22.590    0.000   33.887    0.000 /home/uq/spatram_tmp/legendreutil.py:22(get_integrated_products)\n",
      "  2745000    3.658    0.000   12.718    0.000 {built-in method numpy.core._multiarray_umath.implement_array_function}\n",
      "   122000    7.742    0.000    9.581    0.000 /usr/lib/python3.10/site-packages/numpy/polynomial/legendre.py:1126(legvander)\n",
      "   671000    0.364    0.000    8.415    0.000 <__array_function__ internals>:177(ix_)\n",
      "   671000    2.908    0.000    7.610    0.000 /usr/lib/python3.10/site-packages/numpy/lib/index_tricks.py:35(ix_)\n",
      "  1952000    0.958    0.000    4.429    0.000 <__array_function__ internals>:177(dot)\n",
      "  1342000    1.070    0.000    2.549    0.000 /usr/lib/python3.10/site-packages/numpy/core/numerictypes.py:356(issubdtype)\n",
      "   122000    0.085    0.000    1.651    0.000 <__array_function__ internals>:177(moveaxis)\n",
      "   122000    0.488    0.000    1.450    0.000 /usr/lib/python3.10/site-packages/numpy/core/numeric.py:1404(moveaxis)\n",
      "  2684000    0.890    0.000    1.364    0.000 /usr/lib/python3.10/site-packages/numpy/core/numerictypes.py:282(issubclass_)\n",
      "   122000    1.270    0.000    1.270    0.000 /home/uq/spatram_tmp/legendreutil.py:30(<listcomp>)\n",
      "  1342000    1.189    0.000    1.189    0.000 {built-in method numpy.asarray}\n",
      "   244000    0.488    0.000    0.718    0.000 /usr/lib/python3.10/site-packages/numpy/core/numeric.py:1341(normalize_axis_tuple)\n",
      "  4026000    0.589    0.000    0.589    0.000 {built-in method builtins.issubclass}\n",
      "  1342000    0.510    0.000    0.510    0.000 {method 'reshape' of 'numpy.ndarray' objects}\n",
      "   671000    0.366    0.000    0.366    0.000 /home/uq/spatram_tmp/Transport.py:33(<listcomp>)\n",
      "   366000    0.297    0.000    0.297    0.000 {built-in method numpy.array}\n",
      "  1952000    0.266    0.000    0.266    0.000 /usr/lib/python3.10/site-packages/numpy/core/multiarray.py:736(dot)\n",
      "   671000    0.223    0.000    0.223    0.000 /home/uq/spatram_tmp/Transport.py:34(<listcomp>)\n",
      "  1342000    0.222    0.000    0.222    0.000 {built-in method builtins.isinstance}\n",
      "  1647000    0.185    0.000    0.185    0.000 {built-in method builtins.len}\n",
      "   244000    0.096    0.000    0.154    0.000 /usr/lib/python3.10/site-packages/numpy/core/numeric.py:1391(<listcomp>)\n",
      "  1342000    0.139    0.000    0.139    0.000 {method 'append' of 'list' objects}\n",
      "   305001    0.138    0.000    0.138    0.000 {built-in method numpy.zeros}\n",
      "   122000    0.091    0.000    0.091    0.000 {built-in method builtins.sorted}\n",
      "   671000    0.080    0.000    0.080    0.000 /usr/lib/python3.10/site-packages/numpy/lib/index_tricks.py:31(_ix__dispatcher)\n",
      "   122000    0.057    0.000    0.073    0.000 /usr/lib/python3.10/site-packages/numpy/polynomial/polyutils.py:716(_deprecate_as_int)\n",
      "   122000    0.072    0.000    0.072    0.000 /home/uq/spatram_tmp/legendreutil.py:36(<listcomp>)\n",
      "   122000    0.068    0.000    0.068    0.000 {method 'transpose' of 'numpy.ndarray' objects}\n",
      "   122000    0.061    0.000    0.061    0.000 {built-in method numpy.empty}\n",
      "   244000    0.058    0.000    0.058    0.000 {built-in method numpy.core._multiarray_umath.normalize_axis_index}\n",
      "   122000    0.048    0.000    0.048    0.000 /usr/lib/python3.10/site-packages/numpy/core/numeric.py:1466(<listcomp>)\n",
      "   366000    0.041    0.000    0.041    0.000 {built-in method _operator.index}\n",
      "   122000    0.036    0.000    0.036    0.000 /home/uq/spatram_tmp/MultiIndex.py:134(__getitem__)\n",
      "    60000    0.033    0.000    0.033    0.000 /home/uq/spatram_tmp/Transport.py:48(<lambda>)\n",
      "   122000    0.023    0.000    0.023    0.000 /usr/lib/python3.10/site-packages/numpy/core/numeric.py:1400(_moveaxis_dispatcher)\n",
      "   122000    0.023    0.000    0.023    0.000 {method 'insert' of 'list' objects}\n",
      "        1    0.000    0.000    0.001    0.001 /home/uq/spatram_tmp/randutil.py:4(points)\n",
      "        1    0.001    0.001    0.001    0.001 {method 'uniform' of 'numpy.random._generator.Generator' objects}\n",
      "        1    0.000    0.000    0.000    0.000 {method 'disable' of '_lsprof.Profiler' objects}\n",
      "\n",
      "\n"
     ]
    },
    {
     "data": {
      "text/plain": [
       "<pstats.Stats at 0x7f99302daad0>"
      ]
     },
     "execution_count": 2,
     "metadata": {},
     "output_type": "execute_result"
    }
   ],
   "source": [
    "p = pstats.Stats('stats')\n",
    "p.sort_stats(pstats.SortKey.CUMULATIVE).print_stats()"
   ]
  },
  {
   "cell_type": "markdown",
   "metadata": {},
   "source": [
    "# Evaluating the Legendre basis"
   ]
  },
  {
   "cell_type": "code",
   "execution_count": 3,
   "metadata": {},
   "outputs": [
    {
     "name": "stdout",
     "output_type": "stream",
     "text": [
      "[[ 0.5         0.5         0.5       ]\n",
      " [-0.0818832   0.52708955  0.61128947]\n",
      " [-0.54402447  0.062215    0.27654529]\n",
      " [-0.56133557 -0.68074749  0.84297877]\n",
      " [ 0.09192791 -0.71762978  1.03060808]\n",
      " [ 0.61076058 -0.0847054   0.46624361]\n",
      " [ 0.14556271  0.47721526  1.02996243]\n",
      " [-0.02383828  0.50307035  1.25921037]\n",
      " [-0.15837935  0.05937989  0.56966251]]\n",
      "[[ 0.5         0.5         0.5       ]\n",
      " [-0.0818832   0.52708955  0.61128947]\n",
      " [-0.54402447  0.062215    0.27654529]\n",
      " [-0.56133557 -0.68074749  0.84297877]\n",
      " [ 0.09192791 -0.71762978  1.03060808]\n",
      " [ 0.61076058 -0.0847054   0.46624361]\n",
      " [ 0.14556271  0.47721526  1.02996243]\n",
      " [-0.02383828  0.50307035  1.25921037]\n",
      " [-0.15837935  0.05937989  0.56966251]]\n"
     ]
    }
   ],
   "source": [
    "def setup(d=2, n=10, k=7) :\n",
    "\n",
    "    rng = np.random.default_rng()\n",
    "    x = rng.uniform(low=-1, high=1, size=(d, n))\n",
    "    van = legvander(x, k)\n",
    "    indices = [idx for idx in it.product(range(k+1), repeat=d)]\n",
    "    m = len(indices)\n",
    "    mat = np.zeros((n, m))\n",
    "    return x, van, indices, mat\n",
    "\n",
    "def run1(x, van, indices, mat, d=2, n=10, k=7) :\n",
    "    for i in range(n) :\n",
    "        for j in range((k+1)**d) :\n",
    "            mat[i,j] = np.prod([van[k,i,indices[j][k if k < len(indices[j]) else 0]] for k in range(d)])\n",
    "            mat[i,j] *= np.prod([np.sqrt((2*i + 1)/2) for i in indices[j]])\n",
    "    return mat\n",
    "            \n",
    "def run2(x, van, indices, mat, d=2, n=10, k=7) :\n",
    "    for i in range(n) :\n",
    "        mat[i,:] = [np.prod([van[k,i,idx[di if di < len(idx) else 0]] for di in range(d)])*np.prod([np.sqrt((2*l + 1)/2) for l in idx]) for idx in it.product(range(k+1), repeat=d)]\n",
    "    return mat\n",
    "            \n",
    "def run3(x, van, indices, mat, d=2, n=10, k=7) :\n",
    "    map1 = lambda l : np.sqrt((2*l + 1)/2)\n",
    "    map2 = lambda q : van[q[0],i,q[1]]\n",
    "    for i in range(n) :\n",
    "        mat[i,:] = [math.prod(map(map2, enumerate(idx)))*math.prod(map(map1, idx)) for idx in it.product(range(k+1), repeat=d)]\n",
    "    return mat\n",
    "        \n",
    "def run4(x, van, indices, mat, d=2, n=10, k=7) :\n",
    "    map1 = lambda l : np.sqrt((2*l + 1)/2)\n",
    "    map2 = lambda q : van[q[0],:,q[1]]\n",
    "    return np.array([math.prod(map(map2, enumerate(idx)))*math.prod(map(map1, idx)) for idx in indices]).T\n",
    "\n",
    "\n",
    "def run5(x, van, indices, mat, d=2, n=10, k=7) :\n",
    "    def map1(l) : return np.sqrt((2*l + 1)/2)\n",
    "    def map2(q) : return van[q[0],:,q[1]]\n",
    "    return np.array([math.prod(map(map2, enumerate(idx)))*math.prod(map(map1, idx)) for idx in indices]).T\n",
    "\n",
    "def run6(x, van, indices, mat, d=2, n=10, k=7) :\n",
    "    def map1(l) : return np.sqrt((2*l + 1)/2)\n",
    "    def map2(q) : return van[q[0],:,q[1]]\n",
    "    return np.array([math.prod(map(map2, enumerate(idx)))*math.prod(map(map1, idx)) for idx in indices]).T\n",
    "    \n",
    "d = 2\n",
    "k = 2\n",
    "n = 3\n",
    "x, van, indices, mat = setup(d=d, n=n, k=k)\n",
    "print(run1(x, van, indices, np.zeros((n, (k+1)**d)), d=d, n=n, k=k).T)\n",
    "print(run5(x, van, indices, np.zeros((n, (k+1)**d)), d=d, n=n, k=k).T)"
   ]
  },
  {
   "cell_type": "code",
   "execution_count": 26,
   "metadata": {},
   "outputs": [],
   "source": [
    "dslong = [2,3,4,5,6,7,8]\n",
    "ds = [2,3,4,5]"
   ]
  },
  {
   "cell_type": "code",
   "execution_count": 6,
   "metadata": {},
   "outputs": [],
   "source": [
    "times1 = [timeit.repeat(setup = 'from __main__ import setup, run1; x, van, indices, mat = setup(d={})'.format(d), stmt = 'run1(x, van, indices, mat, d={})'.format(d), repeat=2, number = 1) for d in ds]"
   ]
  },
  {
   "cell_type": "code",
   "execution_count": 8,
   "metadata": {},
   "outputs": [],
   "source": [
    "times3 = [timeit.repeat(setup = 'from __main__ import setup, run3; x, van, indices, mat = setup(d={})'.format(d), stmt = 'run3(x, van, indices, mat, d={})'.format(d), repeat=2, number = 1) for d in ds]"
   ]
  },
  {
   "cell_type": "code",
   "execution_count": 9,
   "metadata": {},
   "outputs": [],
   "source": [
    "times4 = [timeit.repeat(setup = 'from __main__ import setup, run4; x, van, indices, mat = setup(d={})'.format(d), stmt = 'run4(x, van, indices, mat, d={})'.format(d), repeat=2, number = 1) for d in ds]"
   ]
  },
  {
   "cell_type": "code",
   "execution_count": 30,
   "metadata": {},
   "outputs": [],
   "source": [
    "times6 = [timeit.repeat(setup = 'from __main__ import setup, run6; x, van, indices, mat = setup(d={})'.format(d), stmt = 'run6(x, van, indices, mat, d={})'.format(d), repeat=2, number = 1) for d in ds]"
   ]
  },
  {
   "cell_type": "code",
   "execution_count": 31,
   "metadata": {},
   "outputs": [
    {
     "data": {
      "image/png": "[encoded data removed]",
      "text/plain": [
       "<Figure size 2880x720 with 1 Axes>"
      ]
     },
     "metadata": {
      "needs_background": "light"
     },
     "output_type": "display_data"
    }
   ],
   "source": [
    "fig = plt.figure(figsize=(40,10))\n",
    "ax = plotutil.get_ax(fig, 1, 1, xlabel='', logaxis=['y'])\n",
    "ax.errorbar(ds, np.mean(times1, axis=1), np.std(times1, axis=1), label='run1')\n",
    "ax.errorbar(ds, np.mean(times3, axis=1), np.std(times3, axis=1), label='run3')\n",
    "ax.errorbar(ds, np.mean(times4, axis=1), np.std(times4, axis=1), label='run4')\n",
    "ax.errorbar(ds, np.mean(times6, axis=1), np.std(times6, axis=1), label='run6')\n",
    "ax.legend()\n",
    "plt.show()"
   ]
  }
 ],
 "metadata": {
  "kernelspec": {
   "display_name": "Python 3 (ipykernel)",
   "language": "python",
   "name": "python3"
  },
  "language_info": {
   "codemirror_mode": {
    "name": "ipython",
    "version": 3
   },
   "file_extension": ".py",
   "mimetype": "text/x-python",
   "name": "python",
   "nbconvert_exporter": "python",
   "pygments_lexer": "ipython3",
   "version": "3.10.4"
  }
 },
 "nbformat": 4,
 "nbformat_minor": 2
}
